{
 "cells": [
  {
   "cell_type": "markdown",
   "metadata": {},
   "source": [
    "<h1 class=\"list-group-item list-group-item-action active\" data-toggle=\"list\"  role=\"tab\" aria-controls=\"home\">Exploratory Data Analysis Mini Project </h1>\n",
    "     \n"
   ]
  },
  {
   "cell_type": "code",
   "execution_count": 2,
   "metadata": {},
   "outputs": [],
   "source": [
    "import numpy as np\n",
    "import pandas as pd\n",
    "import matplotlib.pyplot as plt\n",
    "%matplotlib inline\n",
    "import seaborn as sns"
   ]
  },
  {
   "cell_type": "markdown",
   "metadata": {},
   "source": [
    "<h4 class=\"list-group-item list-group-item-action active\" >1. DESCRIPTIVE STATISTICS</h4>\n",
    "\n",
    ">#### 1. Create a dataframe using below data and answer the below questions:\n",
    "\n",
    "        Hourly_Income = [1000,2009,24418,444478,324235,243242,3434234,7567457,9235,238237,1312,3412]\n",
    "        Hourly_Expense =  [651361,217371,2746,2356,13436,5732,346346,3463,1132,23534,242235,235235]\n",
    "        family_members_count = [3,4,2,3,1,4,5,6,3,6,3,5]\n",
    "        House_rent = [1299,2300,3411,3422,4566,4211,4600,736,672,0,734,2374]\n",
    "        Highest_income_Member = [\"Olivia\",\"George\",\"Isla\",\"Harry\",\"Ava\",\"Noah\",\"Sophia\",\"Jacobi\",\"Freddie\",\"Ella\",\"Grace\",\"Ella\"]\n",
    "        \n",
    "        \n",
    ">##### A. Display the five point summary of the data. \n",
    ">##### B. What is the mean of the hourly expense?\n",
    ">##### C. What is the median of the hourly expense?\n",
    ">##### D. Find the family member with maximum income and using a suitable graph.\n",
    ">##### E. Calculate IQR(the difference between 75% and 25% quartile) for `Hourly_Income` and `Hourly_Expense`.\n",
    ">##### F. Calculate the standard deviation for first 2 columns.\n",
    ">##### G. Calculate variance for the first 4 columns"
   ]
  },
  {
   "cell_type": "code",
   "execution_count": 4,
   "metadata": {},
   "outputs": [],
   "source": [
    "data1 =  pd.DataFrame({'Hourly_Income' : [1000,2009,24418,444478,324235,243242,3434234,7567457,9235,238237,1312,3412],\n",
    "    'Hourly_Expense' :  [651361,217371,2746,2356,13436,5732,346346,3463,1132,23534,242235,235235],\n",
    "    'family_members_count' : [3,4,2,3,1,4,5,6,3,6,3,5],\n",
    "    'House_rent' : [1299,2300,3411,3422,4566,4211,4600,736,672,0,734,2374],\n",
    "    'Highest_income_Member' : [\"Olivia\",\"George\",\"Isla\",\"Harry\",\"Ava\",\"Noah\",\"Sophia\",\"Jacobi\",\"Freddie\",\"Ella\",\"Grace\",\"Ella\"]})"
   ]
  },
  {
   "cell_type": "markdown",
   "metadata": {},
   "source": [
    "### 1.A Display the five point summary of the data"
   ]
  },
  {
   "cell_type": "code",
   "execution_count": 5,
   "metadata": {},
   "outputs": [
    {
     "data": {
      "text/html": [
       "<div>\n",
       "<style scoped>\n",
       "    .dataframe tbody tr th:only-of-type {\n",
       "        vertical-align: middle;\n",
       "    }\n",
       "\n",
       "    .dataframe tbody tr th {\n",
       "        vertical-align: top;\n",
       "    }\n",
       "\n",
       "    .dataframe thead th {\n",
       "        text-align: right;\n",
       "    }\n",
       "</style>\n",
       "<table border=\"1\" class=\"dataframe\">\n",
       "  <thead>\n",
       "    <tr style=\"text-align: right;\">\n",
       "      <th></th>\n",
       "      <th>Hourly_Income</th>\n",
       "      <th>Hourly_Expense</th>\n",
       "      <th>family_members_count</th>\n",
       "      <th>House_rent</th>\n",
       "      <th>Highest_income_Member</th>\n",
       "    </tr>\n",
       "  </thead>\n",
       "  <tbody>\n",
       "    <tr>\n",
       "      <th>0</th>\n",
       "      <td>1000</td>\n",
       "      <td>651361</td>\n",
       "      <td>3</td>\n",
       "      <td>1299</td>\n",
       "      <td>Olivia</td>\n",
       "    </tr>\n",
       "    <tr>\n",
       "      <th>1</th>\n",
       "      <td>2009</td>\n",
       "      <td>217371</td>\n",
       "      <td>4</td>\n",
       "      <td>2300</td>\n",
       "      <td>George</td>\n",
       "    </tr>\n",
       "    <tr>\n",
       "      <th>2</th>\n",
       "      <td>24418</td>\n",
       "      <td>2746</td>\n",
       "      <td>2</td>\n",
       "      <td>3411</td>\n",
       "      <td>Isla</td>\n",
       "    </tr>\n",
       "    <tr>\n",
       "      <th>3</th>\n",
       "      <td>444478</td>\n",
       "      <td>2356</td>\n",
       "      <td>3</td>\n",
       "      <td>3422</td>\n",
       "      <td>Harry</td>\n",
       "    </tr>\n",
       "  </tbody>\n",
       "</table>\n",
       "</div>"
      ],
      "text/plain": [
       "   Hourly_Income  Hourly_Expense  family_members_count  House_rent  \\\n",
       "0           1000          651361                     3        1299   \n",
       "1           2009          217371                     4        2300   \n",
       "2          24418            2746                     2        3411   \n",
       "3         444478            2356                     3        3422   \n",
       "\n",
       "  Highest_income_Member  \n",
       "0                Olivia  \n",
       "1                George  \n",
       "2                  Isla  \n",
       "3                 Harry  "
      ]
     },
     "execution_count": 5,
     "metadata": {},
     "output_type": "execute_result"
    }
   ],
   "source": [
    "data1.head(4)"
   ]
  },
  {
   "cell_type": "code",
   "execution_count": 5,
   "metadata": {},
   "outputs": [
    {
     "data": {
      "text/html": [
       "<div>\n",
       "<style scoped>\n",
       "    .dataframe tbody tr th:only-of-type {\n",
       "        vertical-align: middle;\n",
       "    }\n",
       "\n",
       "    .dataframe tbody tr th {\n",
       "        vertical-align: top;\n",
       "    }\n",
       "\n",
       "    .dataframe thead th {\n",
       "        text-align: right;\n",
       "    }\n",
       "</style>\n",
       "<table border=\"1\" class=\"dataframe\">\n",
       "  <thead>\n",
       "    <tr style=\"text-align: right;\">\n",
       "      <th></th>\n",
       "      <th>Hourly_Income</th>\n",
       "      <th>Hourly_Expense</th>\n",
       "      <th>family_members_count</th>\n",
       "      <th>House_rent</th>\n",
       "    </tr>\n",
       "  </thead>\n",
       "  <tbody>\n",
       "    <tr>\n",
       "      <th>count</th>\n",
       "      <td>1.200000e+01</td>\n",
       "      <td>12.000000</td>\n",
       "      <td>12.000000</td>\n",
       "      <td>12.000000</td>\n",
       "    </tr>\n",
       "    <tr>\n",
       "      <th>mean</th>\n",
       "      <td>1.024439e+06</td>\n",
       "      <td>145412.250000</td>\n",
       "      <td>3.750000</td>\n",
       "      <td>2360.416667</td>\n",
       "    </tr>\n",
       "    <tr>\n",
       "      <th>std</th>\n",
       "      <td>2.274083e+06</td>\n",
       "      <td>202831.565333</td>\n",
       "      <td>1.544786</td>\n",
       "      <td>1661.663813</td>\n",
       "    </tr>\n",
       "    <tr>\n",
       "      <th>min</th>\n",
       "      <td>1.000000e+03</td>\n",
       "      <td>1132.000000</td>\n",
       "      <td>1.000000</td>\n",
       "      <td>0.000000</td>\n",
       "    </tr>\n",
       "    <tr>\n",
       "      <th>25%</th>\n",
       "      <td>3.061250e+03</td>\n",
       "      <td>3283.750000</td>\n",
       "      <td>3.000000</td>\n",
       "      <td>735.500000</td>\n",
       "    </tr>\n",
       "    <tr>\n",
       "      <th>50%</th>\n",
       "      <td>1.313275e+05</td>\n",
       "      <td>18485.000000</td>\n",
       "      <td>3.500000</td>\n",
       "      <td>2337.000000</td>\n",
       "    </tr>\n",
       "    <tr>\n",
       "      <th>75%</th>\n",
       "      <td>3.542958e+05</td>\n",
       "      <td>236985.000000</td>\n",
       "      <td>5.000000</td>\n",
       "      <td>3619.250000</td>\n",
       "    </tr>\n",
       "    <tr>\n",
       "      <th>max</th>\n",
       "      <td>7.567457e+06</td>\n",
       "      <td>651361.000000</td>\n",
       "      <td>6.000000</td>\n",
       "      <td>4600.000000</td>\n",
       "    </tr>\n",
       "  </tbody>\n",
       "</table>\n",
       "</div>"
      ],
      "text/plain": [
       "       Hourly_Income  Hourly_Expense  family_members_count   House_rent\n",
       "count   1.200000e+01       12.000000             12.000000    12.000000\n",
       "mean    1.024439e+06   145412.250000              3.750000  2360.416667\n",
       "std     2.274083e+06   202831.565333              1.544786  1661.663813\n",
       "min     1.000000e+03     1132.000000              1.000000     0.000000\n",
       "25%     3.061250e+03     3283.750000              3.000000   735.500000\n",
       "50%     1.313275e+05    18485.000000              3.500000  2337.000000\n",
       "75%     3.542958e+05   236985.000000              5.000000  3619.250000\n",
       "max     7.567457e+06   651361.000000              6.000000  4600.000000"
      ]
     },
     "execution_count": 5,
     "metadata": {},
     "output_type": "execute_result"
    }
   ],
   "source": [
    "data1.describe()"
   ]
  },
  {
   "cell_type": "code",
   "execution_count": 6,
   "metadata": {},
   "outputs": [
    {
     "name": "stdout",
     "output_type": "stream",
     "text": [
      "<class 'pandas.core.frame.DataFrame'>\n",
      "RangeIndex: 12 entries, 0 to 11\n",
      "Data columns (total 5 columns):\n",
      " #   Column                 Non-Null Count  Dtype \n",
      "---  ------                 --------------  ----- \n",
      " 0   Hourly_Income          12 non-null     int64 \n",
      " 1   Hourly_Expense         12 non-null     int64 \n",
      " 2   family_members_count   12 non-null     int64 \n",
      " 3   House_rent             12 non-null     int64 \n",
      " 4   Highest_income_Member  12 non-null     object\n",
      "dtypes: int64(4), object(1)\n",
      "memory usage: 608.0+ bytes\n"
     ]
    }
   ],
   "source": [
    "data1.info()"
   ]
  },
  {
   "cell_type": "markdown",
   "metadata": {},
   "source": [
    "**Interpretation:** The data set has 5 variables out of which 4 are numerical, and 1 are categorical. All the variables do not contain null values, this output is based on the entries in each column."
   ]
  },
  {
   "cell_type": "markdown",
   "metadata": {},
   "source": [
    "### 1.B. What is the mean of the hourly expense?"
   ]
  },
  {
   "cell_type": "code",
   "execution_count": 7,
   "metadata": {},
   "outputs": [
    {
     "data": {
      "text/plain": [
       "145412.25"
      ]
     },
     "execution_count": 7,
     "metadata": {},
     "output_type": "execute_result"
    }
   ],
   "source": [
    "data1.Hourly_Expense.mean()"
   ]
  },
  {
   "cell_type": "markdown",
   "metadata": {},
   "source": [
    "### 1.C . What is the median of the hourly expense?"
   ]
  },
  {
   "cell_type": "code",
   "execution_count": 8,
   "metadata": {},
   "outputs": [
    {
     "data": {
      "text/plain": [
       "18485.0"
      ]
     },
     "execution_count": 8,
     "metadata": {},
     "output_type": "execute_result"
    }
   ],
   "source": [
    "data1.Hourly_Expense.median()"
   ]
  },
  {
   "cell_type": "markdown",
   "metadata": {},
   "source": [
    "### 1.D  Find the family member with maximum income and using a suitable graph"
   ]
  },
  {
   "cell_type": "code",
   "execution_count": 21,
   "metadata": {},
   "outputs": [
    {
     "data": {
      "image/png": "[encoded data removed]",
      "text/plain": [
       "<Figure size 432x288 with 1 Axes>"
      ]
     },
     "metadata": {
      "needs_background": "light"
     },
     "output_type": "display_data"
    }
   ],
   "source": [
    "# sns.barplot(x = 'Highest_income_Member', y = 'Hourly_Income', data = data1)\n",
    "data1_max = data1.sort_values('Hourly_Income')\n",
    "plt.bar(data1_max['Highest_income_Member'],data1_max['Hourly_Income'],color = 'red',width=0.5)\n",
    "plt.show()"
   ]
  },
  {
   "cell_type": "markdown",
   "metadata": {},
   "source": [
    "**Interpretition** : Jacob is the highest income member"
   ]
  },
  {
   "cell_type": "markdown",
   "metadata": {},
   "source": [
    "### 1.E Calculate IQR(the difference between 75% and 25% quartile) for Hourly_Income and Hourly_Expense."
   ]
  },
  {
   "cell_type": "code",
   "execution_count": 22,
   "metadata": {},
   "outputs": [
    {
     "data": {
      "text/plain": [
       "Hourly_Income     351234.50\n",
       "Hourly_Expense    233701.25\n",
       "dtype: float64"
      ]
     },
     "execution_count": 22,
     "metadata": {},
     "output_type": "execute_result"
    }
   ],
   "source": [
    "\n",
    "Q1 = data1[['Hourly_Income', 'Hourly_Expense']].quantile(0.75)\n",
    "Q2 = data1[['Hourly_Income', 'Hourly_Expense']].quantile(0.25)\n",
    "\n",
    "IQR = Q1-Q2\n",
    "IQR"
   ]
  },
  {
   "cell_type": "markdown",
   "metadata": {},
   "source": [
    "**Interpretition** : IQR for Hourly_income is 351234.5 and IQR for Hourly_expense is 233701.25"
   ]
  },
  {
   "cell_type": "markdown",
   "metadata": {},
   "source": [
    "### 1.F. Calculate the standard deviation for first 2 columns\n"
   ]
  },
  {
   "cell_type": "code",
   "execution_count": 7,
   "metadata": {},
   "outputs": [
    {
     "data": {
      "text/html": [
       "<div>\n",
       "<style scoped>\n",
       "    .dataframe tbody tr th:only-of-type {\n",
       "        vertical-align: middle;\n",
       "    }\n",
       "\n",
       "    .dataframe tbody tr th {\n",
       "        vertical-align: top;\n",
       "    }\n",
       "\n",
       "    .dataframe thead th {\n",
       "        text-align: right;\n",
       "    }\n",
       "</style>\n",
       "<table border=\"1\" class=\"dataframe\">\n",
       "  <thead>\n",
       "    <tr style=\"text-align: right;\">\n",
       "      <th></th>\n",
       "      <th>Hourly_Income</th>\n",
       "      <th>Hourly_Expense</th>\n",
       "    </tr>\n",
       "  </thead>\n",
       "  <tbody>\n",
       "    <tr>\n",
       "      <th>0</th>\n",
       "      <td>2274082.75</td>\n",
       "      <td>202831.57</td>\n",
       "    </tr>\n",
       "  </tbody>\n",
       "</table>\n",
       "</div>"
      ],
      "text/plain": [
       "   Hourly_Income  Hourly_Expense\n",
       "0     2274082.75       202831.57"
      ]
     },
     "execution_count": 7,
     "metadata": {},
     "output_type": "execute_result"
    }
   ],
   "source": [
    "pd.DataFrame(round(data1[['Hourly_Income', 'Hourly_Expense']].std(),2)).transpose()"
   ]
  },
  {
   "cell_type": "markdown",
   "metadata": {},
   "source": [
    "**Interpretition** : Standard Deviation for first two columns are 2274082.75 , 202831.57 respectively"
   ]
  },
  {
   "cell_type": "markdown",
   "metadata": {},
   "source": [
    "### G. Calculate variance for the first 4 columns"
   ]
  },
  {
   "cell_type": "code",
   "execution_count": 28,
   "metadata": {},
   "outputs": [
    {
     "data": {
      "text/html": [
       "<div>\n",
       "<style scoped>\n",
       "    .dataframe tbody tr th:only-of-type {\n",
       "        vertical-align: middle;\n",
       "    }\n",
       "\n",
       "    .dataframe tbody tr th {\n",
       "        vertical-align: top;\n",
       "    }\n",
       "\n",
       "    .dataframe thead th {\n",
       "        text-align: right;\n",
       "    }\n",
       "</style>\n",
       "<table border=\"1\" class=\"dataframe\">\n",
       "  <thead>\n",
       "    <tr style=\"text-align: right;\">\n",
       "      <th></th>\n",
       "      <th>Hourly_Income</th>\n",
       "      <th>Hourly_Expense</th>\n",
       "      <th>family_members_count</th>\n",
       "      <th>House_rent</th>\n",
       "    </tr>\n",
       "  </thead>\n",
       "  <tbody>\n",
       "    <tr>\n",
       "      <th>0</th>\n",
       "      <td>5.171452e+12</td>\n",
       "      <td>4.114064e+10</td>\n",
       "      <td>2.386364</td>\n",
       "      <td>2.761127e+06</td>\n",
       "    </tr>\n",
       "  </tbody>\n",
       "</table>\n",
       "</div>"
      ],
      "text/plain": [
       "   Hourly_Income  Hourly_Expense  family_members_count    House_rent\n",
       "0   5.171452e+12    4.114064e+10              2.386364  2.761127e+06"
      ]
     },
     "execution_count": 28,
     "metadata": {},
     "output_type": "execute_result"
    }
   ],
   "source": [
    "pd.DataFrame(data1[['Hourly_Income', 'Hourly_Expense', 'family_members_count', 'House_rent']].var()).transpose()"
   ]
  },
  {
   "cell_type": "markdown",
   "metadata": {},
   "source": [
    "<h4 class=\"list-group-item list-group-item-action active\" >2. Preliminary Wrangling,</h4>\n",
    "\n",
    ">### Dataset Information: \n",
    "\n",
    "Dataset recording people to invest in each other in a way that is financially and socially rewarding. On loans, borrowers list loan requests between $ 2,000 and $ 35,000 and individual investors invest as little as $ 25 in each loan listing they select. Prosper handles the servicing of the loan on behalf of the matched borrowers and investors.\n",
    "\n",
    "\n",
    "\n",
    "\n",
    ">#### A. Read the dataset called Pri-Load.csv\n",
    ">#### B.  Check the data type and adjust datatype for all other categorical columns.\n",
    ">#### C. If you find any of the missing values in the ProsperRating column, then drop it.\n",
    "\n"
   ]
  },
  {
   "cell_type": "markdown",
   "metadata": {},
   "source": [
    "### 2.A. Read the dataset called Pri-Load.csv"
   ]
  },
  {
   "cell_type": "code",
   "execution_count": 34,
   "metadata": {},
   "outputs": [
    {
     "data": {
      "text/html": [
       "<div>\n",
       "<style scoped>\n",
       "    .dataframe tbody tr th:only-of-type {\n",
       "        vertical-align: middle;\n",
       "    }\n",
       "\n",
       "    .dataframe tbody tr th {\n",
       "        vertical-align: top;\n",
       "    }\n",
       "\n",
       "    .dataframe thead th {\n",
       "        text-align: right;\n",
       "    }\n",
       "</style>\n",
       "<table border=\"1\" class=\"dataframe\">\n",
       "  <thead>\n",
       "    <tr style=\"text-align: right;\">\n",
       "      <th></th>\n",
       "      <th>ListingCreationDate</th>\n",
       "      <th>Term</th>\n",
       "      <th>LoanStatus</th>\n",
       "      <th>ClosedDate</th>\n",
       "      <th>BorrowerAPR</th>\n",
       "      <th>BorrowerRate</th>\n",
       "      <th>LenderYield</th>\n",
       "      <th>ProsperRating (Alpha)</th>\n",
       "      <th>ProsperScore</th>\n",
       "      <th>ListingCategory (numeric)</th>\n",
       "      <th>...</th>\n",
       "      <th>EmploymentStatus</th>\n",
       "      <th>AmountDelinquent</th>\n",
       "      <th>StatedMonthlyIncome</th>\n",
       "      <th>LoanCurrentDaysDelinquent</th>\n",
       "      <th>LoanOriginalAmount</th>\n",
       "      <th>LoanOriginationDate</th>\n",
       "      <th>LoanOriginationQuarter</th>\n",
       "      <th>MonthlyLoanPayment</th>\n",
       "      <th>LP_InterestandFees</th>\n",
       "      <th>Investors</th>\n",
       "    </tr>\n",
       "  </thead>\n",
       "  <tbody>\n",
       "    <tr>\n",
       "      <th>0</th>\n",
       "      <td>2007-08-26 19:09:29.263000000</td>\n",
       "      <td>36</td>\n",
       "      <td>Completed</td>\n",
       "      <td>14-08-2009 0.00</td>\n",
       "      <td>0.16516</td>\n",
       "      <td>0.1580</td>\n",
       "      <td>0.1380</td>\n",
       "      <td>NaN</td>\n",
       "      <td>NaN</td>\n",
       "      <td>0</td>\n",
       "      <td>...</td>\n",
       "      <td>Self-employed</td>\n",
       "      <td>472.0</td>\n",
       "      <td>3083.333333</td>\n",
       "      <td>0</td>\n",
       "      <td>9425</td>\n",
       "      <td>12-09-2007 0.00</td>\n",
       "      <td>Q3 2007</td>\n",
       "      <td>330.43</td>\n",
       "      <td>1971.14</td>\n",
       "      <td>258</td>\n",
       "    </tr>\n",
       "    <tr>\n",
       "      <th>1</th>\n",
       "      <td>2014-02-27 08:28:07.900000000</td>\n",
       "      <td>36</td>\n",
       "      <td>Current</td>\n",
       "      <td>NaN</td>\n",
       "      <td>0.12016</td>\n",
       "      <td>0.0920</td>\n",
       "      <td>0.0820</td>\n",
       "      <td>A</td>\n",
       "      <td>7.0</td>\n",
       "      <td>2</td>\n",
       "      <td>...</td>\n",
       "      <td>Employed</td>\n",
       "      <td>0.0</td>\n",
       "      <td>6125.000000</td>\n",
       "      <td>0</td>\n",
       "      <td>10000</td>\n",
       "      <td>03-03-2014 0.00</td>\n",
       "      <td>Q1 2014</td>\n",
       "      <td>318.93</td>\n",
       "      <td>0.00</td>\n",
       "      <td>1</td>\n",
       "    </tr>\n",
       "    <tr>\n",
       "      <th>2</th>\n",
       "      <td>2007-01-05 15:00:47.090000000</td>\n",
       "      <td>36</td>\n",
       "      <td>Completed</td>\n",
       "      <td>17-12-2009 0.00</td>\n",
       "      <td>0.28269</td>\n",
       "      <td>0.2750</td>\n",
       "      <td>0.2400</td>\n",
       "      <td>NaN</td>\n",
       "      <td>NaN</td>\n",
       "      <td>0</td>\n",
       "      <td>...</td>\n",
       "      <td>Not available</td>\n",
       "      <td>NaN</td>\n",
       "      <td>2083.333333</td>\n",
       "      <td>0</td>\n",
       "      <td>3001</td>\n",
       "      <td>17-01-2007 0.00</td>\n",
       "      <td>Q1 2007</td>\n",
       "      <td>123.32</td>\n",
       "      <td>1185.63</td>\n",
       "      <td>41</td>\n",
       "    </tr>\n",
       "    <tr>\n",
       "      <th>3</th>\n",
       "      <td>2012-10-22 11:02:35.010000000</td>\n",
       "      <td>36</td>\n",
       "      <td>Current</td>\n",
       "      <td>NaN</td>\n",
       "      <td>0.12528</td>\n",
       "      <td>0.0974</td>\n",
       "      <td>0.0874</td>\n",
       "      <td>A</td>\n",
       "      <td>9.0</td>\n",
       "      <td>16</td>\n",
       "      <td>...</td>\n",
       "      <td>Employed</td>\n",
       "      <td>10056.0</td>\n",
       "      <td>2875.000000</td>\n",
       "      <td>0</td>\n",
       "      <td>10000</td>\n",
       "      <td>01-11-2012 0.00</td>\n",
       "      <td>Q4 2012</td>\n",
       "      <td>321.45</td>\n",
       "      <td>1052.11</td>\n",
       "      <td>158</td>\n",
       "    </tr>\n",
       "    <tr>\n",
       "      <th>4</th>\n",
       "      <td>2013-09-14 18:38:39.097000000</td>\n",
       "      <td>36</td>\n",
       "      <td>Current</td>\n",
       "      <td>NaN</td>\n",
       "      <td>0.24614</td>\n",
       "      <td>0.2085</td>\n",
       "      <td>0.1985</td>\n",
       "      <td>D</td>\n",
       "      <td>4.0</td>\n",
       "      <td>2</td>\n",
       "      <td>...</td>\n",
       "      <td>Employed</td>\n",
       "      <td>0.0</td>\n",
       "      <td>9583.333333</td>\n",
       "      <td>0</td>\n",
       "      <td>15000</td>\n",
       "      <td>20-09-2013 0.00</td>\n",
       "      <td>Q3 2013</td>\n",
       "      <td>563.97</td>\n",
       "      <td>1256.63</td>\n",
       "      <td>20</td>\n",
       "    </tr>\n",
       "  </tbody>\n",
       "</table>\n",
       "<p>5 rows × 22 columns</p>\n",
       "</div>"
      ],
      "text/plain": [
       "             ListingCreationDate  Term LoanStatus       ClosedDate  \\\n",
       "0  2007-08-26 19:09:29.263000000    36  Completed  14-08-2009 0.00   \n",
       "1  2014-02-27 08:28:07.900000000    36    Current              NaN   \n",
       "2  2007-01-05 15:00:47.090000000    36  Completed  17-12-2009 0.00   \n",
       "3  2012-10-22 11:02:35.010000000    36    Current              NaN   \n",
       "4  2013-09-14 18:38:39.097000000    36    Current              NaN   \n",
       "\n",
       "   BorrowerAPR  BorrowerRate  LenderYield ProsperRating (Alpha)  ProsperScore  \\\n",
       "0      0.16516        0.1580       0.1380                   NaN           NaN   \n",
       "1      0.12016        0.0920       0.0820                     A           7.0   \n",
       "2      0.28269        0.2750       0.2400                   NaN           NaN   \n",
       "3      0.12528        0.0974       0.0874                     A           9.0   \n",
       "4      0.24614        0.2085       0.1985                     D           4.0   \n",
       "\n",
       "   ListingCategory (numeric)  ... EmploymentStatus AmountDelinquent  \\\n",
       "0                          0  ...    Self-employed            472.0   \n",
       "1                          2  ...         Employed              0.0   \n",
       "2                          0  ...    Not available              NaN   \n",
       "3                         16  ...         Employed          10056.0   \n",
       "4                          2  ...         Employed              0.0   \n",
       "\n",
       "  StatedMonthlyIncome  LoanCurrentDaysDelinquent  LoanOriginalAmount  \\\n",
       "0         3083.333333                          0                9425   \n",
       "1         6125.000000                          0               10000   \n",
       "2         2083.333333                          0                3001   \n",
       "3         2875.000000                          0               10000   \n",
       "4         9583.333333                          0               15000   \n",
       "\n",
       "   LoanOriginationDate  LoanOriginationQuarter MonthlyLoanPayment  \\\n",
       "0      12-09-2007 0.00                 Q3 2007             330.43   \n",
       "1      03-03-2014 0.00                 Q1 2014             318.93   \n",
       "2      17-01-2007 0.00                 Q1 2007             123.32   \n",
       "3      01-11-2012 0.00                 Q4 2012             321.45   \n",
       "4      20-09-2013 0.00                 Q3 2013             563.97   \n",
       "\n",
       "  LP_InterestandFees  Investors  \n",
       "0            1971.14        258  \n",
       "1               0.00          1  \n",
       "2            1185.63         41  \n",
       "3            1052.11        158  \n",
       "4            1256.63         20  \n",
       "\n",
       "[5 rows x 22 columns]"
      ]
     },
     "execution_count": 34,
     "metadata": {},
     "output_type": "execute_result"
    }
   ],
   "source": [
    "data2 = pd.read_csv('Pri-Load.csv')\n",
    "data2.head(5)"
   ]
  },
  {
   "cell_type": "code",
   "execution_count": 30,
   "metadata": {},
   "outputs": [
    {
     "data": {
      "text/plain": [
       "(1035, 22)"
      ]
     },
     "execution_count": 30,
     "metadata": {},
     "output_type": "execute_result"
    }
   ],
   "source": [
    "data2.shape"
   ]
  },
  {
   "cell_type": "markdown",
   "metadata": {},
   "source": [
    "### 2.B. Check the data type and adjust datatype for all other categorical columns."
   ]
  },
  {
   "cell_type": "code",
   "execution_count": 35,
   "metadata": {},
   "outputs": [
    {
     "name": "stdout",
     "output_type": "stream",
     "text": [
      "<class 'pandas.core.frame.DataFrame'>\n",
      "RangeIndex: 1035 entries, 0 to 1034\n",
      "Data columns (total 22 columns):\n",
      " #   Column                     Non-Null Count  Dtype  \n",
      "---  ------                     --------------  -----  \n",
      " 0   ListingCreationDate        1035 non-null   object \n",
      " 1   Term                       1035 non-null   int64  \n",
      " 2   LoanStatus                 1035 non-null   object \n",
      " 3   ClosedDate                 479 non-null    object \n",
      " 4   BorrowerAPR                1035 non-null   float64\n",
      " 5   BorrowerRate               1035 non-null   float64\n",
      " 6   LenderYield                1035 non-null   float64\n",
      " 7   ProsperRating (Alpha)      783 non-null    object \n",
      " 8   ProsperScore               783 non-null    float64\n",
      " 9   ListingCategory (numeric)  1035 non-null   int64  \n",
      " 10  BorrowerState              983 non-null    object \n",
      " 11  Occupation                 996 non-null    object \n",
      " 12  EmploymentStatus           1010 non-null   object \n",
      " 13  AmountDelinquent           954 non-null    float64\n",
      " 14  StatedMonthlyIncome        1035 non-null   float64\n",
      " 15  LoanCurrentDaysDelinquent  1035 non-null   int64  \n",
      " 16  LoanOriginalAmount         1035 non-null   int64  \n",
      " 17  LoanOriginationDate        1035 non-null   object \n",
      " 18  LoanOriginationQuarter     1035 non-null   object \n",
      " 19  MonthlyLoanPayment         1035 non-null   float64\n",
      " 20  LP_InterestandFees         1035 non-null   float64\n",
      " 21  Investors                  1035 non-null   int64  \n",
      "dtypes: float64(8), int64(5), object(9)\n",
      "memory usage: 178.0+ KB\n"
     ]
    }
   ],
   "source": [
    "data2.info()"
   ]
  },
  {
   "cell_type": "code",
   "execution_count": 49,
   "metadata": {},
   "outputs": [
    {
     "name": "stdout",
     "output_type": "stream",
     "text": [
      "<class 'pandas.core.frame.DataFrame'>\n",
      "RangeIndex: 1035 entries, 0 to 1034\n",
      "Data columns (total 22 columns):\n",
      " #   Column                     Non-Null Count  Dtype   \n",
      "---  ------                     --------------  -----   \n",
      " 0   ListingCreationDate        1035 non-null   object  \n",
      " 1   Term                       1035 non-null   int64   \n",
      " 2   LoanStatus                 1035 non-null   category\n",
      " 3   ClosedDate                 479 non-null    object  \n",
      " 4   BorrowerAPR                1035 non-null   float64 \n",
      " 5   BorrowerRate               1035 non-null   float64 \n",
      " 6   LenderYield                1035 non-null   float64 \n",
      " 7   ProsperRating (Alpha)      783 non-null    category\n",
      " 8   ProsperScore               783 non-null    float64 \n",
      " 9   ListingCategory (numeric)  1035 non-null   int64   \n",
      " 10  BorrowerState              983 non-null    category\n",
      " 11  Occupation                 996 non-null    category\n",
      " 12  EmploymentStatus           1010 non-null   category\n",
      " 13  AmountDelinquent           954 non-null    float64 \n",
      " 14  StatedMonthlyIncome        1035 non-null   float64 \n",
      " 15  LoanCurrentDaysDelinquent  1035 non-null   int64   \n",
      " 16  LoanOriginalAmount         1035 non-null   int64   \n",
      " 17  LoanOriginationDate        1035 non-null   object  \n",
      " 18  LoanOriginationQuarter     1035 non-null   category\n",
      " 19  MonthlyLoanPayment         1035 non-null   float64 \n",
      " 20  LP_InterestandFees         1035 non-null   float64 \n",
      " 21  Investors                  1035 non-null   int64   \n",
      "dtypes: category(6), float64(8), int64(5), object(3)\n",
      "memory usage: 141.9+ KB\n"
     ]
    }
   ],
   "source": [
    "cols=[col for col in data2.select_dtypes(['object']).columns if len(data2[col].unique())<(len(data2)*0.25)]\n",
    "data2[cols] = data2[cols].astype('category')\n",
    "data2.info()"
   ]
  },
  {
   "cell_type": "markdown",
   "metadata": {},
   "source": [
    "**Interpretation:** The data set has 22 variables out of which 8 are float, 5 are numerical, and 6 are categorical. All the variables do not contain null values, this output is based on the entries in each column."
   ]
  },
  {
   "cell_type": "markdown",
   "metadata": {},
   "source": [
    "### 1.C. If you find any of the missing values in the ProsperRating column, then drop it."
   ]
  },
  {
   "cell_type": "code",
   "execution_count": 51,
   "metadata": {},
   "outputs": [
    {
     "data": {
      "text/plain": [
       "252"
      ]
     },
     "execution_count": 51,
     "metadata": {},
     "output_type": "execute_result"
    }
   ],
   "source": [
    "null_count = data2['ProsperRating (Alpha)'].isnull().sum()\n",
    "null_count"
   ]
  },
  {
   "cell_type": "code",
   "execution_count": 52,
   "metadata": {
    "scrolled": true
   },
   "outputs": [],
   "source": [
    "data2.drop('ProsperRating (Alpha)', axis=1, inplace=True)"
   ]
  },
  {
   "cell_type": "code",
   "execution_count": 53,
   "metadata": {},
   "outputs": [
    {
     "data": {
      "text/html": [
       "<div>\n",
       "<style scoped>\n",
       "    .dataframe tbody tr th:only-of-type {\n",
       "        vertical-align: middle;\n",
       "    }\n",
       "\n",
       "    .dataframe tbody tr th {\n",
       "        vertical-align: top;\n",
       "    }\n",
       "\n",
       "    .dataframe thead th {\n",
       "        text-align: right;\n",
       "    }\n",
       "</style>\n",
       "<table border=\"1\" class=\"dataframe\">\n",
       "  <thead>\n",
       "    <tr style=\"text-align: right;\">\n",
       "      <th></th>\n",
       "      <th>ListingCreationDate</th>\n",
       "      <th>Term</th>\n",
       "      <th>LoanStatus</th>\n",
       "      <th>ClosedDate</th>\n",
       "      <th>BorrowerAPR</th>\n",
       "      <th>BorrowerRate</th>\n",
       "      <th>LenderYield</th>\n",
       "      <th>ProsperScore</th>\n",
       "      <th>ListingCategory (numeric)</th>\n",
       "      <th>BorrowerState</th>\n",
       "      <th>...</th>\n",
       "      <th>EmploymentStatus</th>\n",
       "      <th>AmountDelinquent</th>\n",
       "      <th>StatedMonthlyIncome</th>\n",
       "      <th>LoanCurrentDaysDelinquent</th>\n",
       "      <th>LoanOriginalAmount</th>\n",
       "      <th>LoanOriginationDate</th>\n",
       "      <th>LoanOriginationQuarter</th>\n",
       "      <th>MonthlyLoanPayment</th>\n",
       "      <th>LP_InterestandFees</th>\n",
       "      <th>Investors</th>\n",
       "    </tr>\n",
       "  </thead>\n",
       "  <tbody>\n",
       "    <tr>\n",
       "      <th>0</th>\n",
       "      <td>2007-08-26 19:09:29.263000000</td>\n",
       "      <td>36</td>\n",
       "      <td>Completed</td>\n",
       "      <td>14-08-2009 0.00</td>\n",
       "      <td>0.16516</td>\n",
       "      <td>0.1580</td>\n",
       "      <td>0.1380</td>\n",
       "      <td>NaN</td>\n",
       "      <td>0</td>\n",
       "      <td>CO</td>\n",
       "      <td>...</td>\n",
       "      <td>Self-employed</td>\n",
       "      <td>472.0</td>\n",
       "      <td>3083.333333</td>\n",
       "      <td>0</td>\n",
       "      <td>9425</td>\n",
       "      <td>12-09-2007 0.00</td>\n",
       "      <td>Q3 2007</td>\n",
       "      <td>330.43</td>\n",
       "      <td>1971.14</td>\n",
       "      <td>258</td>\n",
       "    </tr>\n",
       "    <tr>\n",
       "      <th>1</th>\n",
       "      <td>2014-02-27 08:28:07.900000000</td>\n",
       "      <td>36</td>\n",
       "      <td>Current</td>\n",
       "      <td>NaN</td>\n",
       "      <td>0.12016</td>\n",
       "      <td>0.0920</td>\n",
       "      <td>0.0820</td>\n",
       "      <td>7.0</td>\n",
       "      <td>2</td>\n",
       "      <td>CO</td>\n",
       "      <td>...</td>\n",
       "      <td>Employed</td>\n",
       "      <td>0.0</td>\n",
       "      <td>6125.000000</td>\n",
       "      <td>0</td>\n",
       "      <td>10000</td>\n",
       "      <td>03-03-2014 0.00</td>\n",
       "      <td>Q1 2014</td>\n",
       "      <td>318.93</td>\n",
       "      <td>0.00</td>\n",
       "      <td>1</td>\n",
       "    </tr>\n",
       "    <tr>\n",
       "      <th>2</th>\n",
       "      <td>2007-01-05 15:00:47.090000000</td>\n",
       "      <td>36</td>\n",
       "      <td>Completed</td>\n",
       "      <td>17-12-2009 0.00</td>\n",
       "      <td>0.28269</td>\n",
       "      <td>0.2750</td>\n",
       "      <td>0.2400</td>\n",
       "      <td>NaN</td>\n",
       "      <td>0</td>\n",
       "      <td>GA</td>\n",
       "      <td>...</td>\n",
       "      <td>Not available</td>\n",
       "      <td>NaN</td>\n",
       "      <td>2083.333333</td>\n",
       "      <td>0</td>\n",
       "      <td>3001</td>\n",
       "      <td>17-01-2007 0.00</td>\n",
       "      <td>Q1 2007</td>\n",
       "      <td>123.32</td>\n",
       "      <td>1185.63</td>\n",
       "      <td>41</td>\n",
       "    </tr>\n",
       "    <tr>\n",
       "      <th>3</th>\n",
       "      <td>2012-10-22 11:02:35.010000000</td>\n",
       "      <td>36</td>\n",
       "      <td>Current</td>\n",
       "      <td>NaN</td>\n",
       "      <td>0.12528</td>\n",
       "      <td>0.0974</td>\n",
       "      <td>0.0874</td>\n",
       "      <td>9.0</td>\n",
       "      <td>16</td>\n",
       "      <td>GA</td>\n",
       "      <td>...</td>\n",
       "      <td>Employed</td>\n",
       "      <td>10056.0</td>\n",
       "      <td>2875.000000</td>\n",
       "      <td>0</td>\n",
       "      <td>10000</td>\n",
       "      <td>01-11-2012 0.00</td>\n",
       "      <td>Q4 2012</td>\n",
       "      <td>321.45</td>\n",
       "      <td>1052.11</td>\n",
       "      <td>158</td>\n",
       "    </tr>\n",
       "    <tr>\n",
       "      <th>4</th>\n",
       "      <td>2013-09-14 18:38:39.097000000</td>\n",
       "      <td>36</td>\n",
       "      <td>Current</td>\n",
       "      <td>NaN</td>\n",
       "      <td>0.24614</td>\n",
       "      <td>0.2085</td>\n",
       "      <td>0.1985</td>\n",
       "      <td>4.0</td>\n",
       "      <td>2</td>\n",
       "      <td>MN</td>\n",
       "      <td>...</td>\n",
       "      <td>Employed</td>\n",
       "      <td>0.0</td>\n",
       "      <td>9583.333333</td>\n",
       "      <td>0</td>\n",
       "      <td>15000</td>\n",
       "      <td>20-09-2013 0.00</td>\n",
       "      <td>Q3 2013</td>\n",
       "      <td>563.97</td>\n",
       "      <td>1256.63</td>\n",
       "      <td>20</td>\n",
       "    </tr>\n",
       "  </tbody>\n",
       "</table>\n",
       "<p>5 rows × 21 columns</p>\n",
       "</div>"
      ],
      "text/plain": [
       "             ListingCreationDate  Term LoanStatus       ClosedDate  \\\n",
       "0  2007-08-26 19:09:29.263000000    36  Completed  14-08-2009 0.00   \n",
       "1  2014-02-27 08:28:07.900000000    36    Current              NaN   \n",
       "2  2007-01-05 15:00:47.090000000    36  Completed  17-12-2009 0.00   \n",
       "3  2012-10-22 11:02:35.010000000    36    Current              NaN   \n",
       "4  2013-09-14 18:38:39.097000000    36    Current              NaN   \n",
       "\n",
       "   BorrowerAPR  BorrowerRate  LenderYield  ProsperScore  \\\n",
       "0      0.16516        0.1580       0.1380           NaN   \n",
       "1      0.12016        0.0920       0.0820           7.0   \n",
       "2      0.28269        0.2750       0.2400           NaN   \n",
       "3      0.12528        0.0974       0.0874           9.0   \n",
       "4      0.24614        0.2085       0.1985           4.0   \n",
       "\n",
       "   ListingCategory (numeric) BorrowerState  ... EmploymentStatus  \\\n",
       "0                          0            CO  ...    Self-employed   \n",
       "1                          2            CO  ...         Employed   \n",
       "2                          0            GA  ...    Not available   \n",
       "3                         16            GA  ...         Employed   \n",
       "4                          2            MN  ...         Employed   \n",
       "\n",
       "  AmountDelinquent  StatedMonthlyIncome  LoanCurrentDaysDelinquent  \\\n",
       "0            472.0          3083.333333                          0   \n",
       "1              0.0          6125.000000                          0   \n",
       "2              NaN          2083.333333                          0   \n",
       "3          10056.0          2875.000000                          0   \n",
       "4              0.0          9583.333333                          0   \n",
       "\n",
       "   LoanOriginalAmount  LoanOriginationDate LoanOriginationQuarter  \\\n",
       "0                9425      12-09-2007 0.00                Q3 2007   \n",
       "1               10000      03-03-2014 0.00                Q1 2014   \n",
       "2                3001      17-01-2007 0.00                Q1 2007   \n",
       "3               10000      01-11-2012 0.00                Q4 2012   \n",
       "4               15000      20-09-2013 0.00                Q3 2013   \n",
       "\n",
       "  MonthlyLoanPayment  LP_InterestandFees  Investors  \n",
       "0             330.43             1971.14        258  \n",
       "1             318.93                0.00          1  \n",
       "2             123.32             1185.63         41  \n",
       "3             321.45             1052.11        158  \n",
       "4             563.97             1256.63         20  \n",
       "\n",
       "[5 rows x 21 columns]"
      ]
     },
     "execution_count": 53,
     "metadata": {},
     "output_type": "execute_result"
    }
   ],
   "source": [
    "data2.head()"
   ]
  },
  {
   "cell_type": "markdown",
   "metadata": {},
   "source": [
    "<h4 class=\"list-group-item list-group-item-action active\" >3. UNIVARIATE ANALYSIS</h4>\n",
    "\n",
    ">#### A. What are the main features of interest in your dataset?\n",
    "\n",
    "    Step1: Apply Univariate analysis using suitable charts for[ Loan status, Employment Status, Stated Monthly Income]\n",
    "\n",
    "    Step2: Check if any column distribution skew or not.\n",
    "\n",
    "    Step3: Write at least 2 observations for each visualization.\n",
    "\n",
    "\n"
   ]
  },
  {
   "cell_type": "code",
   "execution_count": 135,
   "metadata": {},
   "outputs": [
    {
     "data": {
      "text/plain": [
       "Index(['ListingCreationDate', 'Term', 'LoanStatus', 'ClosedDate',\n",
       "       'BorrowerAPR', 'BorrowerRate', 'LenderYield', 'ProsperRating (Alpha)',\n",
       "       'ProsperScore', 'ListingCategory (numeric)', 'BorrowerState',\n",
       "       'Occupation', 'EmploymentStatus', 'AmountDelinquent',\n",
       "       'StatedMonthlyIncome', 'LoanCurrentDaysDelinquent',\n",
       "       'LoanOriginalAmount', 'LoanOriginationDate', 'LoanOriginationQuarter',\n",
       "       'MonthlyLoanPayment', 'LP_InterestandFees', 'Investors'],\n",
       "      dtype='object')"
      ]
     },
     "execution_count": 135,
     "metadata": {},
     "output_type": "execute_result"
    }
   ],
   "source": [
    "data3 = pd.read_csv('Pri-Load.csv')\n",
    "\n",
    "data3.columns"
   ]
  },
  {
   "cell_type": "markdown",
   "metadata": {},
   "source": [
    "### Step1: Apply Univariate analysis using suitable charts for[ Loan status, Employment Status, Stated Monthly Income]"
   ]
  },
  {
   "cell_type": "code",
   "execution_count": 136,
   "metadata": {},
   "outputs": [
    {
     "name": "stderr",
     "output_type": "stream",
     "text": [
      "C:\\Users\\newdi\\Anaconda3\\lib\\site-packages\\seaborn\\distributions.py:2619: FutureWarning: `distplot` is a deprecated function and will be removed in a future version. Please adapt your code to use either `displot` (a figure-level function with similar flexibility) or `histplot` (an axes-level function for histograms).\n",
      "  warnings.warn(msg, FutureWarning)\n"
     ]
    },
    {
     "data": {
      "text/plain": [
       "<AxesSubplot:xlabel='StatedMonthlyIncome', ylabel='Density'>"
      ]
     },
     "execution_count": 136,
     "metadata": {},
     "output_type": "execute_result"
    },
    {
     "data": {
      "image/png": "[encoded data removed]",
      "text/plain": [
       "<Figure size 1080x576 with 1 Axes>"
      ]
     },
     "metadata": {
      "needs_background": "light"
     },
     "output_type": "display_data"
    }
   ],
   "source": [
    "sns.distplot(data3['StatedMonthlyIncome'])"
   ]
  },
  {
   "cell_type": "markdown",
   "metadata": {},
   "source": [
    "**Interpretition**: \n",
    "- Monthly income of 5000 shows maximum frequency\n",
    "- This figure is right skewed, we can find outlier after 20,000 manthly income"
   ]
  },
  {
   "cell_type": "code",
   "execution_count": 139,
   "metadata": {},
   "outputs": [
    {
     "data": {
      "text/plain": [
       "[Text(0, 0, 'Completed'),\n",
       " Text(1, 0, 'Current'),\n",
       " Text(2, 0, 'Past Due (1-15 days)'),\n",
       " Text(3, 0, 'Defaulted'),\n",
       " Text(4, 0, 'Chargedoff'),\n",
       " Text(5, 0, 'Past Due (16-30 days)'),\n",
       " Text(6, 0, 'Cancelled'),\n",
       " Text(7, 0, 'Past Due (61-90 days)'),\n",
       " Text(8, 0, 'Past Due (31-60 days)')]"
      ]
     },
     "execution_count": 139,
     "metadata": {},
     "output_type": "execute_result"
    },
    {
     "data": {
      "image/png": "[encoded data removed]",
      "text/plain": [
       "<Figure size 1080x576 with 1 Axes>"
      ]
     },
     "metadata": {
      "needs_background": "light"
     },
     "output_type": "display_data"
    }
   ],
   "source": [
    "ax=sns.countplot(data3['LoanStatus'])\n",
    "ax.set_xticklabels(ax.get_xticklabels(),rotation = 30)"
   ]
  },
  {
   "cell_type": "markdown",
   "metadata": {},
   "source": [
    "**Interpretition** : \n",
    "- Current Loan status shows maximum frequency \n",
    "- past due(16-30days,31-60 days, 61-90 days) and cancelled shows minimum frequency"
   ]
  },
  {
   "cell_type": "code",
   "execution_count": 140,
   "metadata": {},
   "outputs": [
    {
     "name": "stderr",
     "output_type": "stream",
     "text": [
      "C:\\Users\\newdi\\Anaconda3\\lib\\site-packages\\seaborn\\_decorators.py:43: FutureWarning: Pass the following variable as a keyword arg: x. From version 0.12, the only valid positional argument will be `data`, and passing other arguments without an explicit keyword will result in an error or misinterpretation.\n",
      "  FutureWarning\n"
     ]
    },
    {
     "data": {
      "text/plain": [
       "[Text(0, 0, 'Self-employed'),\n",
       " Text(1, 0, 'Employed'),\n",
       " Text(2, 0, 'Not available'),\n",
       " Text(3, 0, 'Full-time'),\n",
       " Text(4, 0, 'Other'),\n",
       " Text(5, 0, 'Not employed'),\n",
       " Text(6, 0, 'Part-time'),\n",
       " Text(7, 0, 'Retired')]"
      ]
     },
     "execution_count": 140,
     "metadata": {},
     "output_type": "execute_result"
    },
    {
     "data": {
      "image/png": "[encoded data removed]",
      "text/plain": [
       "<Figure size 1080x576 with 1 Axes>"
      ]
     },
     "metadata": {
      "needs_background": "light"
     },
     "output_type": "display_data"
    }
   ],
   "source": [
    "ax=sns.countplot(data3['EmploymentStatus'])\n",
    "ax.set_xticklabels(ax.get_xticklabels(),rotation = 30)"
   ]
  },
  {
   "cell_type": "markdown",
   "metadata": {},
   "source": [
    "**Interpretition** : \n",
    "- Employed shows maximum frequency\n",
    "- not-employed, part-time, retired shows minimum frequency"
   ]
  },
  {
   "cell_type": "code",
   "execution_count": 141,
   "metadata": {},
   "outputs": [
    {
     "data": {
      "text/plain": [
       "Term                          1.044179\n",
       "BorrowerAPR                   0.267334\n",
       "BorrowerRate                  0.314124\n",
       "LenderYield                   0.331794\n",
       "ProsperScore                  0.149154\n",
       "ListingCategory (numeric)     2.277709\n",
       "AmountDelinquent             15.554333\n",
       "StatedMonthlyIncome           3.225084\n",
       "LoanCurrentDaysDelinquent     3.694044\n",
       "LoanOriginalAmount            1.180358\n",
       "MonthlyLoanPayment            1.247707\n",
       "LP_InterestandFees            2.345340\n",
       "Investors                     2.303866\n",
       "dtype: float64"
      ]
     },
     "execution_count": 141,
     "metadata": {},
     "output_type": "execute_result"
    }
   ],
   "source": [
    "data3.skew()"
   ]
  },
  {
   "cell_type": "markdown",
   "metadata": {},
   "source": [
    "**Interpretition**: \n",
    "- data3 is Right skewed as it shows maximum right skewness in all the columns\n",
    "- Amount Delinquent shows maximum right skewness."
   ]
  },
  {
   "cell_type": "markdown",
   "metadata": {},
   "source": [
    "<h4 class=\"list-group-item list-group-item-action active\" >4. BIVARIATE ANALYSIS</h4>\n",
    "\n",
    ">#### A. Check the correlation matrix for all numeric variables. Maintain the Strong positive and Negative correlations columns.\n",
    ">#### B. Check the relation between `LoanOriginalAmount` and `BorrowerAPR` columns. \n",
    "\n",
    "    Step1: Use subplots. \n",
    "    \n",
    "        Plot1: Scatter Plot of LoanOriginalAmount and BorrowerAPR columns    \n",
    "\n",
    "        Plot2: HeatMap of LoanOriginalAmount and BorrowerAPR\n",
    "        \n",
    "    Step2: Write your observations.         \n",
    "        \n",
    ">#### C.Display the seperate box plot for `y = BorrowerAPR`  with x1 = `LoanStatus`, x2 = `EmploymentStatus` columns.Write your observations. \n"
   ]
  },
  {
   "cell_type": "markdown",
   "metadata": {},
   "source": [
    "### 4A.Check the correlation matrix for all numeric variables. Maintain the Strong positive and Negative correlations columns."
   ]
  },
  {
   "cell_type": "code",
   "execution_count": 142,
   "metadata": {},
   "outputs": [
    {
     "data": {
      "text/plain": [
       "<AxesSubplot:>"
      ]
     },
     "execution_count": 142,
     "metadata": {},
     "output_type": "execute_result"
    },
    {
     "data": {
      "image/png": "[encoded data removed]",
      "text/plain": [
       "<Figure size 1440x576 with 2 Axes>"
      ]
     },
     "metadata": {
      "needs_background": "light"
     },
     "output_type": "display_data"
    }
   ],
   "source": [
    "plt.rcParams[\"figure.figsize\"] = [20,8]\n",
    "sns.heatmap(data3.corr(),  annot = True, cmap = 'YlGnBu', vmin=-1, vmax=1)"
   ]
  },
  {
   "cell_type": "markdown",
   "metadata": {},
   "source": [
    "### B. Check the relation between LoanOriginalAmount and BorrowerAPR columns.\n",
    "#### Step1: Use subplots. \n",
    "    Plot1: Scatter Plot of LoanOriginalAmount and BorrowerAPR columns    \n",
    "    Plot2: HeatMap of LoanOriginalAmount and BorrowerAPR\n",
    "#### Step2: Write your observations. "
   ]
  },
  {
   "cell_type": "code",
   "execution_count": 143,
   "metadata": {},
   "outputs": [
    {
     "data": {
      "image/png": "[encoded data removed]",
      "text/plain": [
       "<Figure size 1080x576 with 3 Axes>"
      ]
     },
     "metadata": {
      "needs_background": "light"
     },
     "output_type": "display_data"
    }
   ],
   "source": [
    "plt.rcParams[\"figure.figsize\"] = [15,8]\n",
    "\n",
    "plt.subplot(1,2,1)\n",
    "\n",
    "plt.scatter(data3['LoanOriginalAmount'], data3['BorrowerAPR'])\n",
    "plt.ylabel('BorrowerAPR', fontsize=15)\n",
    "plt.xlabel('LoanOriginalAmount', fontsize=15)\n",
    "\n",
    "\n",
    "plt.subplot(1,2,2)\n",
    "\n",
    "ax=sns.heatmap(data3[['LoanOriginalAmount','BorrowerAPR']].corr())\n",
    "ax.set_xticklabels(ax.get_xticklabels(),rotation = 30)\n",
    "\n",
    "plt.show()"
   ]
  },
  {
   "cell_type": "code",
   "execution_count": 144,
   "metadata": {},
   "outputs": [
    {
     "data": {
      "text/plain": [
       "-0.3050321487674613"
      ]
     },
     "execution_count": 144,
     "metadata": {},
     "output_type": "execute_result"
    }
   ],
   "source": [
    "from scipy.stats import pearsonr\n",
    "\n",
    "corr, _ = pearsonr(data3['LoanOriginalAmount'], data2['BorrowerAPR'])\n",
    "corr"
   ]
  },
  {
   "cell_type": "markdown",
   "metadata": {},
   "source": [
    "**Interpretition**: There is negative correlation of -0.3 between borrowerAPR and LoadOriginalAmount"
   ]
  },
  {
   "cell_type": "markdown",
   "metadata": {},
   "source": [
    "### 4.C Display the seperate box plot for y = BorrowerAPR with x1 = LoanStatus, x2 = EmploymentStatus columns.Write your observations."
   ]
  },
  {
   "cell_type": "code",
   "execution_count": 145,
   "metadata": {},
   "outputs": [
    {
     "data": {
      "image/png": "[encoded data removed]",
      "text/plain": [
       "<Figure size 1080x576 with 2 Axes>"
      ]
     },
     "metadata": {
      "needs_background": "light"
     },
     "output_type": "display_data"
    }
   ],
   "source": [
    "plt.rcParams[\"figure.figsize\"] = [15,8]\n",
    "\n",
    "plt.subplot(1,2,1)\n",
    "ax1=sns.boxplot(x = 'LoanStatus', y = 'BorrowerAPR', data= data3 )\n",
    "ax1.set_xticklabels(ax1.get_xticklabels(),rotation = 30)\n",
    "plt.subplot(1,2,2)\n",
    "ax2=sns.boxplot(x = 'EmploymentStatus', y = 'BorrowerAPR', data= data3 )\n",
    "ax2.set_xticklabels(ax2.get_xticklabels(),rotation = 30)\n",
    "plt.show()"
   ]
  },
  {
   "cell_type": "markdown",
   "metadata": {},
   "source": [
    "**Interpretition**: \n",
    "- There is an outlier in Past due loan status and not employed, part-time employment status\n",
    "- loan status of completed, current, pastdue(1-15 days), charged off shows the maximum distribuition with borrowerAPR\n",
    "- Employment status of self-employed, employed, full-time, other shows the maximum distribuition with borrowerAPR\n"
   ]
  },
  {
   "cell_type": "markdown",
   "metadata": {},
   "source": [
    "<h4 class=\"list-group-item list-group-item-action active\" >5.  MULTI VARIATE ANALYSIS, FEATURE ENGINEERING</h4>\n",
    "\n",
    ">#### A. Write a program\n",
    "\n",
    "    Step 1: Create a  condition = 'LoanStatus'== 'Completed'| 'LoanStatus' == 'Defaulted' |\\'LoanStatus' == 'Chargedoff'\n",
    "\n",
    "    Step2: Create a user define function  using condition and `LoanStatus` column.\n",
    "\n",
    "    Hint: df['LoanStatus'] = df.apply(user define function , axis=1)\n",
    "    \n",
    "        Sample output : \n",
    "        \n",
    "        \n",
    "        Completed    168\n",
    "        \n",
    "        Defaulted     59\n",
    "\n",
    "\n",
    ">#### B. Write a program\n",
    "\n",
    "    Step 1: Create a  dictionary called categories = 1: 'Debt Consolidation', 2: 'Home Improvement', 3: 'Business', 6: 'Auto', 7: 'Other'\n",
    "\n",
    "    Step2: Create a user define function  using categories and `ListingCategory (numeric)` column.\n",
    "\n",
    "    Hint: df['ListingCategory (numeric)'] = df.apply(user define function , axis=1)\n",
    "    \n",
    "        Sample output : \n",
    "        \n",
    "        \n",
    "        Debt Consolidation    106\n",
    "\n",
    "        Other                  65\n",
    "\n",
    "        Business               25\n",
    "\n",
    "        Home Improvement       22\n",
    "\n",
    "        Auto                    9\n",
    "\n",
    ">#### C. Display the box plot for `ProsperRating (Alpha)` vs `LoanOriginalAmount` and hue = `Loan Status`[Completed,Defaulted]. Write your observations.\n",
    "\n",
    ">#### D. Display the catplot for `ProsperRating (Alpha)` vs `ListingCategory (numeric)`[Debt Consolidation,Other,Business,Home Improvement,Auto] and hue = `Loan Status`[Completed,Defaulted]. Write your observations."
   ]
  },
  {
   "cell_type": "markdown",
   "metadata": {
    "scrolled": false
   },
   "source": [
    "### 5.A"
   ]
  },
  {
   "cell_type": "code",
   "execution_count": 146,
   "metadata": {},
   "outputs": [
    {
     "data": {
      "text/html": [
       "<div>\n",
       "<style scoped>\n",
       "    .dataframe tbody tr th:only-of-type {\n",
       "        vertical-align: middle;\n",
       "    }\n",
       "\n",
       "    .dataframe tbody tr th {\n",
       "        vertical-align: top;\n",
       "    }\n",
       "\n",
       "    .dataframe thead th {\n",
       "        text-align: right;\n",
       "    }\n",
       "</style>\n",
       "<table border=\"1\" class=\"dataframe\">\n",
       "  <thead>\n",
       "    <tr style=\"text-align: right;\">\n",
       "      <th></th>\n",
       "      <th>ListingCreationDate</th>\n",
       "      <th>Term</th>\n",
       "      <th>LoanStatus</th>\n",
       "      <th>ClosedDate</th>\n",
       "      <th>BorrowerAPR</th>\n",
       "      <th>BorrowerRate</th>\n",
       "      <th>LenderYield</th>\n",
       "      <th>ProsperRating (Alpha)</th>\n",
       "      <th>ProsperScore</th>\n",
       "      <th>ListingCategory (numeric)</th>\n",
       "      <th>...</th>\n",
       "      <th>EmploymentStatus</th>\n",
       "      <th>AmountDelinquent</th>\n",
       "      <th>StatedMonthlyIncome</th>\n",
       "      <th>LoanCurrentDaysDelinquent</th>\n",
       "      <th>LoanOriginalAmount</th>\n",
       "      <th>LoanOriginationDate</th>\n",
       "      <th>LoanOriginationQuarter</th>\n",
       "      <th>MonthlyLoanPayment</th>\n",
       "      <th>LP_InterestandFees</th>\n",
       "      <th>Investors</th>\n",
       "    </tr>\n",
       "  </thead>\n",
       "  <tbody>\n",
       "    <tr>\n",
       "      <th>0</th>\n",
       "      <td>2007-08-26 19:09:29.263000000</td>\n",
       "      <td>36</td>\n",
       "      <td>Completed</td>\n",
       "      <td>14-08-2009 0.00</td>\n",
       "      <td>0.16516</td>\n",
       "      <td>0.1580</td>\n",
       "      <td>0.1380</td>\n",
       "      <td>NaN</td>\n",
       "      <td>NaN</td>\n",
       "      <td>0</td>\n",
       "      <td>...</td>\n",
       "      <td>Self-employed</td>\n",
       "      <td>472.0</td>\n",
       "      <td>3083.333333</td>\n",
       "      <td>0</td>\n",
       "      <td>9425</td>\n",
       "      <td>12-09-2007 0.00</td>\n",
       "      <td>Q3 2007</td>\n",
       "      <td>330.43</td>\n",
       "      <td>1971.14</td>\n",
       "      <td>258</td>\n",
       "    </tr>\n",
       "    <tr>\n",
       "      <th>2</th>\n",
       "      <td>2007-01-05 15:00:47.090000000</td>\n",
       "      <td>36</td>\n",
       "      <td>Completed</td>\n",
       "      <td>17-12-2009 0.00</td>\n",
       "      <td>0.28269</td>\n",
       "      <td>0.2750</td>\n",
       "      <td>0.2400</td>\n",
       "      <td>NaN</td>\n",
       "      <td>NaN</td>\n",
       "      <td>0</td>\n",
       "      <td>...</td>\n",
       "      <td>Not available</td>\n",
       "      <td>NaN</td>\n",
       "      <td>2083.333333</td>\n",
       "      <td>0</td>\n",
       "      <td>3001</td>\n",
       "      <td>17-01-2007 0.00</td>\n",
       "      <td>Q1 2007</td>\n",
       "      <td>123.32</td>\n",
       "      <td>1185.63</td>\n",
       "      <td>41</td>\n",
       "    </tr>\n",
       "    <tr>\n",
       "      <th>11</th>\n",
       "      <td>2007-10-09 20:28:33.640000000</td>\n",
       "      <td>36</td>\n",
       "      <td>Completed</td>\n",
       "      <td>07-01-2008 0.00</td>\n",
       "      <td>0.15033</td>\n",
       "      <td>0.1325</td>\n",
       "      <td>0.1225</td>\n",
       "      <td>NaN</td>\n",
       "      <td>NaN</td>\n",
       "      <td>0</td>\n",
       "      <td>...</td>\n",
       "      <td>Full-time</td>\n",
       "      <td>2224.0</td>\n",
       "      <td>1666.666667</td>\n",
       "      <td>0</td>\n",
       "      <td>1000</td>\n",
       "      <td>18-10-2007 0.00</td>\n",
       "      <td>Q4 2007</td>\n",
       "      <td>33.81</td>\n",
       "      <td>11.65</td>\n",
       "      <td>53</td>\n",
       "    </tr>\n",
       "    <tr>\n",
       "      <th>15</th>\n",
       "      <td>2012-04-10 09:14:46.297000000</td>\n",
       "      <td>36</td>\n",
       "      <td>Defaulted</td>\n",
       "      <td>19-12-2012 0.00</td>\n",
       "      <td>0.35797</td>\n",
       "      <td>0.3177</td>\n",
       "      <td>0.3077</td>\n",
       "      <td>HR</td>\n",
       "      <td>5.0</td>\n",
       "      <td>13</td>\n",
       "      <td>...</td>\n",
       "      <td>Other</td>\n",
       "      <td>0.0</td>\n",
       "      <td>5500.000000</td>\n",
       "      <td>140</td>\n",
       "      <td>4000</td>\n",
       "      <td>19-04-2012 0.00</td>\n",
       "      <td>Q2 2012</td>\n",
       "      <td>173.71</td>\n",
       "      <td>311.38</td>\n",
       "      <td>10</td>\n",
       "    </tr>\n",
       "    <tr>\n",
       "      <th>17</th>\n",
       "      <td>2006-08-15 12:21:09.433000000</td>\n",
       "      <td>36</td>\n",
       "      <td>Chargedoff</td>\n",
       "      <td>22-05-2008 0.00</td>\n",
       "      <td>0.13202</td>\n",
       "      <td>0.1250</td>\n",
       "      <td>0.1175</td>\n",
       "      <td>NaN</td>\n",
       "      <td>NaN</td>\n",
       "      <td>0</td>\n",
       "      <td>...</td>\n",
       "      <td>Not available</td>\n",
       "      <td>NaN</td>\n",
       "      <td>5833.333333</td>\n",
       "      <td>2239</td>\n",
       "      <td>10000</td>\n",
       "      <td>22-08-2006 0.00</td>\n",
       "      <td>Q3 2006</td>\n",
       "      <td>334.54</td>\n",
       "      <td>1338.00</td>\n",
       "      <td>85</td>\n",
       "    </tr>\n",
       "    <tr>\n",
       "      <th>...</th>\n",
       "      <td>...</td>\n",
       "      <td>...</td>\n",
       "      <td>...</td>\n",
       "      <td>...</td>\n",
       "      <td>...</td>\n",
       "      <td>...</td>\n",
       "      <td>...</td>\n",
       "      <td>...</td>\n",
       "      <td>...</td>\n",
       "      <td>...</td>\n",
       "      <td>...</td>\n",
       "      <td>...</td>\n",
       "      <td>...</td>\n",
       "      <td>...</td>\n",
       "      <td>...</td>\n",
       "      <td>...</td>\n",
       "      <td>...</td>\n",
       "      <td>...</td>\n",
       "      <td>...</td>\n",
       "      <td>...</td>\n",
       "      <td>...</td>\n",
       "    </tr>\n",
       "    <tr>\n",
       "      <th>1024</th>\n",
       "      <td>2012-05-24 07:35:52.213000000</td>\n",
       "      <td>36</td>\n",
       "      <td>Chargedoff</td>\n",
       "      <td>25-08-2013 0.00</td>\n",
       "      <td>0.26681</td>\n",
       "      <td>0.2287</td>\n",
       "      <td>0.2187</td>\n",
       "      <td>D</td>\n",
       "      <td>3.0</td>\n",
       "      <td>13</td>\n",
       "      <td>...</td>\n",
       "      <td>Full-time</td>\n",
       "      <td>0.0</td>\n",
       "      <td>2033.333333</td>\n",
       "      <td>319</td>\n",
       "      <td>2000</td>\n",
       "      <td>25-05-2012 0.00</td>\n",
       "      <td>Q2 2012</td>\n",
       "      <td>77.28</td>\n",
       "      <td>478.97</td>\n",
       "      <td>41</td>\n",
       "    </tr>\n",
       "    <tr>\n",
       "      <th>1025</th>\n",
       "      <td>2012-09-12 15:04:36.263000000</td>\n",
       "      <td>60</td>\n",
       "      <td>Chargedoff</td>\n",
       "      <td>28-01-2014 0.00</td>\n",
       "      <td>0.29464</td>\n",
       "      <td>0.2684</td>\n",
       "      <td>0.2584</td>\n",
       "      <td>D</td>\n",
       "      <td>6.0</td>\n",
       "      <td>1</td>\n",
       "      <td>...</td>\n",
       "      <td>Employed</td>\n",
       "      <td>0.0</td>\n",
       "      <td>3583.333333</td>\n",
       "      <td>163</td>\n",
       "      <td>11500</td>\n",
       "      <td>28-09-2012 0.00</td>\n",
       "      <td>Q3 2012</td>\n",
       "      <td>350.06</td>\n",
       "      <td>2701.31</td>\n",
       "      <td>177</td>\n",
       "    </tr>\n",
       "    <tr>\n",
       "      <th>1028</th>\n",
       "      <td>2010-03-12 12:13:42.697000000</td>\n",
       "      <td>36</td>\n",
       "      <td>Completed</td>\n",
       "      <td>23-03-2013 0.00</td>\n",
       "      <td>0.26282</td>\n",
       "      <td>0.2399</td>\n",
       "      <td>0.2299</td>\n",
       "      <td>D</td>\n",
       "      <td>7.0</td>\n",
       "      <td>1</td>\n",
       "      <td>...</td>\n",
       "      <td>Full-time</td>\n",
       "      <td>0.0</td>\n",
       "      <td>2840.083333</td>\n",
       "      <td>0</td>\n",
       "      <td>3500</td>\n",
       "      <td>23-03-2010 0.00</td>\n",
       "      <td>Q1 2010</td>\n",
       "      <td>131.50</td>\n",
       "      <td>1448.61</td>\n",
       "      <td>209</td>\n",
       "    </tr>\n",
       "    <tr>\n",
       "      <th>1032</th>\n",
       "      <td>2008-09-27 05:42:35.203000000</td>\n",
       "      <td>36</td>\n",
       "      <td>Completed</td>\n",
       "      <td>06-10-2011 0.00</td>\n",
       "      <td>0.19855</td>\n",
       "      <td>0.1765</td>\n",
       "      <td>0.1665</td>\n",
       "      <td>NaN</td>\n",
       "      <td>NaN</td>\n",
       "      <td>1</td>\n",
       "      <td>...</td>\n",
       "      <td>Full-time</td>\n",
       "      <td>0.0</td>\n",
       "      <td>1666.666667</td>\n",
       "      <td>0</td>\n",
       "      <td>5000</td>\n",
       "      <td>06-10-2008 0.00</td>\n",
       "      <td>Q4 2008</td>\n",
       "      <td>179.89</td>\n",
       "      <td>1475.70</td>\n",
       "      <td>176</td>\n",
       "    </tr>\n",
       "    <tr>\n",
       "      <th>1034</th>\n",
       "      <td>2006-12-11 13:41:20.050000000</td>\n",
       "      <td>36</td>\n",
       "      <td>Completed</td>\n",
       "      <td>27-12-2009 0.00</td>\n",
       "      <td>0.10692</td>\n",
       "      <td>0.1000</td>\n",
       "      <td>0.0950</td>\n",
       "      <td>NaN</td>\n",
       "      <td>NaN</td>\n",
       "      <td>0</td>\n",
       "      <td>...</td>\n",
       "      <td>Not available</td>\n",
       "      <td>NaN</td>\n",
       "      <td>4160.000000</td>\n",
       "      <td>0</td>\n",
       "      <td>19500</td>\n",
       "      <td>27-12-2006 0.00</td>\n",
       "      <td>Q4 2006</td>\n",
       "      <td>626.60</td>\n",
       "      <td>3154.17</td>\n",
       "      <td>302</td>\n",
       "    </tr>\n",
       "  </tbody>\n",
       "</table>\n",
       "<p>478 rows × 22 columns</p>\n",
       "</div>"
      ],
      "text/plain": [
       "                ListingCreationDate  Term  LoanStatus       ClosedDate  \\\n",
       "0     2007-08-26 19:09:29.263000000    36   Completed  14-08-2009 0.00   \n",
       "2     2007-01-05 15:00:47.090000000    36   Completed  17-12-2009 0.00   \n",
       "11    2007-10-09 20:28:33.640000000    36   Completed  07-01-2008 0.00   \n",
       "15    2012-04-10 09:14:46.297000000    36   Defaulted  19-12-2012 0.00   \n",
       "17    2006-08-15 12:21:09.433000000    36  Chargedoff  22-05-2008 0.00   \n",
       "...                             ...   ...         ...              ...   \n",
       "1024  2012-05-24 07:35:52.213000000    36  Chargedoff  25-08-2013 0.00   \n",
       "1025  2012-09-12 15:04:36.263000000    60  Chargedoff  28-01-2014 0.00   \n",
       "1028  2010-03-12 12:13:42.697000000    36   Completed  23-03-2013 0.00   \n",
       "1032  2008-09-27 05:42:35.203000000    36   Completed  06-10-2011 0.00   \n",
       "1034  2006-12-11 13:41:20.050000000    36   Completed  27-12-2009 0.00   \n",
       "\n",
       "      BorrowerAPR  BorrowerRate  LenderYield ProsperRating (Alpha)  \\\n",
       "0         0.16516        0.1580       0.1380                   NaN   \n",
       "2         0.28269        0.2750       0.2400                   NaN   \n",
       "11        0.15033        0.1325       0.1225                   NaN   \n",
       "15        0.35797        0.3177       0.3077                    HR   \n",
       "17        0.13202        0.1250       0.1175                   NaN   \n",
       "...           ...           ...          ...                   ...   \n",
       "1024      0.26681        0.2287       0.2187                     D   \n",
       "1025      0.29464        0.2684       0.2584                     D   \n",
       "1028      0.26282        0.2399       0.2299                     D   \n",
       "1032      0.19855        0.1765       0.1665                   NaN   \n",
       "1034      0.10692        0.1000       0.0950                   NaN   \n",
       "\n",
       "      ProsperScore  ListingCategory (numeric)  ... EmploymentStatus  \\\n",
       "0              NaN                          0  ...    Self-employed   \n",
       "2              NaN                          0  ...    Not available   \n",
       "11             NaN                          0  ...        Full-time   \n",
       "15             5.0                         13  ...            Other   \n",
       "17             NaN                          0  ...    Not available   \n",
       "...            ...                        ...  ...              ...   \n",
       "1024           3.0                         13  ...        Full-time   \n",
       "1025           6.0                          1  ...         Employed   \n",
       "1028           7.0                          1  ...        Full-time   \n",
       "1032           NaN                          1  ...        Full-time   \n",
       "1034           NaN                          0  ...    Not available   \n",
       "\n",
       "     AmountDelinquent StatedMonthlyIncome  LoanCurrentDaysDelinquent  \\\n",
       "0               472.0         3083.333333                          0   \n",
       "2                 NaN         2083.333333                          0   \n",
       "11             2224.0         1666.666667                          0   \n",
       "15                0.0         5500.000000                        140   \n",
       "17                NaN         5833.333333                       2239   \n",
       "...               ...                 ...                        ...   \n",
       "1024              0.0         2033.333333                        319   \n",
       "1025              0.0         3583.333333                        163   \n",
       "1028              0.0         2840.083333                          0   \n",
       "1032              0.0         1666.666667                          0   \n",
       "1034              NaN         4160.000000                          0   \n",
       "\n",
       "      LoanOriginalAmount  LoanOriginationDate  LoanOriginationQuarter  \\\n",
       "0                   9425      12-09-2007 0.00                 Q3 2007   \n",
       "2                   3001      17-01-2007 0.00                 Q1 2007   \n",
       "11                  1000      18-10-2007 0.00                 Q4 2007   \n",
       "15                  4000      19-04-2012 0.00                 Q2 2012   \n",
       "17                 10000      22-08-2006 0.00                 Q3 2006   \n",
       "...                  ...                  ...                     ...   \n",
       "1024                2000      25-05-2012 0.00                 Q2 2012   \n",
       "1025               11500      28-09-2012 0.00                 Q3 2012   \n",
       "1028                3500      23-03-2010 0.00                 Q1 2010   \n",
       "1032                5000      06-10-2008 0.00                 Q4 2008   \n",
       "1034               19500      27-12-2006 0.00                 Q4 2006   \n",
       "\n",
       "     MonthlyLoanPayment LP_InterestandFees  Investors  \n",
       "0                330.43            1971.14        258  \n",
       "2                123.32            1185.63         41  \n",
       "11                33.81              11.65         53  \n",
       "15               173.71             311.38         10  \n",
       "17               334.54            1338.00         85  \n",
       "...                 ...                ...        ...  \n",
       "1024              77.28             478.97         41  \n",
       "1025             350.06            2701.31        177  \n",
       "1028             131.50            1448.61        209  \n",
       "1032             179.89            1475.70        176  \n",
       "1034             626.60            3154.17        302  \n",
       "\n",
       "[478 rows x 22 columns]"
      ]
     },
     "execution_count": 146,
     "metadata": {},
     "output_type": "execute_result"
    }
   ],
   "source": [
    "condition=data3[(data3['LoanStatus'] == 'Completed') | (data3['LoanStatus'] == 'Defaulted') | (data3['LoanStatus'] == 'Chargedoff')]\n",
    "condition"
   ]
  },
  {
   "cell_type": "code",
   "execution_count": 147,
   "metadata": {},
   "outputs": [
    {
     "name": "stderr",
     "output_type": "stream",
     "text": [
      "C:\\Users\\newdi\\Anaconda3\\lib\\site-packages\\ipykernel_launcher.py:8: SettingWithCopyWarning: \n",
      "A value is trying to be set on a copy of a slice from a DataFrame.\n",
      "Try using .loc[row_indexer,col_indexer] = value instead\n",
      "\n",
      "See the caveats in the documentation: https://pandas.pydata.org/pandas-docs/stable/user_guide/indexing.html#returning-a-view-versus-a-copy\n",
      "  \n"
     ]
    }
   ],
   "source": [
    "def check_loan_status(val):\n",
    "    if val== \"Completed\":\n",
    "        return \"Completed\"\n",
    "    else:\n",
    "        return \"Defaulted\"\n",
    "data22=condition['LoanStatus'] \n",
    "\n",
    "condition['LoanStatus'] = data22.apply(check_loan_status)\n"
   ]
  },
  {
   "cell_type": "code",
   "execution_count": 148,
   "metadata": {},
   "outputs": [],
   "source": [
    "condition=condition.dropna(axis=0)"
   ]
  },
  {
   "cell_type": "code",
   "execution_count": 149,
   "metadata": {},
   "outputs": [
    {
     "data": {
      "text/plain": [
       "Completed    168\n",
       "Defaulted     59\n",
       "Name: LoanStatus, dtype: int64"
      ]
     },
     "execution_count": 149,
     "metadata": {},
     "output_type": "execute_result"
    }
   ],
   "source": [
    "condition.LoanStatus.value_counts()"
   ]
  },
  {
   "cell_type": "markdown",
   "metadata": {},
   "source": [
    "### 5.B"
   ]
  },
  {
   "cell_type": "code",
   "execution_count": 150,
   "metadata": {},
   "outputs": [],
   "source": [
    "categories = {1: 'Debt Consolidation', 2: 'Home Improvement', 3: 'Business', 6: 'Auto', 7: 'Other'}"
   ]
  },
  {
   "cell_type": "code",
   "execution_count": 151,
   "metadata": {},
   "outputs": [],
   "source": [
    "def categories_class(val):\n",
    "    if val==1:\n",
    "        return 'Debt Consolidation'\n",
    "    elif val==2:\n",
    "        return 'Home Improvement'\n",
    "    elif val==3:\n",
    "        return 'Business'\n",
    "    elif val==6:\n",
    "        return 'Auto'\n",
    "    else:\n",
    "        return 'Other'"
   ]
  },
  {
   "cell_type": "code",
   "execution_count": 152,
   "metadata": {},
   "outputs": [],
   "source": [
    "data_22=condition['ListingCategory (numeric)']"
   ]
  },
  {
   "cell_type": "code",
   "execution_count": 153,
   "metadata": {},
   "outputs": [
    {
     "name": "stderr",
     "output_type": "stream",
     "text": [
      "C:\\Users\\newdi\\Anaconda3\\lib\\site-packages\\ipykernel_launcher.py:1: SettingWithCopyWarning: \n",
      "A value is trying to be set on a copy of a slice from a DataFrame.\n",
      "Try using .loc[row_indexer,col_indexer] = value instead\n",
      "\n",
      "See the caveats in the documentation: https://pandas.pydata.org/pandas-docs/stable/user_guide/indexing.html#returning-a-view-versus-a-copy\n",
      "  \"\"\"Entry point for launching an IPython kernel.\n"
     ]
    }
   ],
   "source": [
    "condition['ListingCategory (numeric)'] = data_22.apply(categories_class)"
   ]
  },
  {
   "cell_type": "code",
   "execution_count": 154,
   "metadata": {},
   "outputs": [
    {
     "data": {
      "text/plain": [
       "Debt Consolidation    106\n",
       "Other                  65\n",
       "Business               25\n",
       "Home Improvement       22\n",
       "Auto                    9\n",
       "Name: ListingCategory (numeric), dtype: int64"
      ]
     },
     "execution_count": 154,
     "metadata": {},
     "output_type": "execute_result"
    }
   ],
   "source": [
    "condition['ListingCategory (numeric)'].value_counts()"
   ]
  },
  {
   "cell_type": "code",
   "execution_count": 155,
   "metadata": {},
   "outputs": [
    {
     "data": {
      "text/plain": [
       "15      HR\n",
       "23       D\n",
       "26       E\n",
       "27       A\n",
       "30       A\n",
       "        ..\n",
       "1018     D\n",
       "1022     A\n",
       "1024     D\n",
       "1025     D\n",
       "1028     D\n",
       "Name: ProsperRating (Alpha), Length: 227, dtype: object"
      ]
     },
     "execution_count": 155,
     "metadata": {},
     "output_type": "execute_result"
    }
   ],
   "source": [
    "condition['ProsperRating (Alpha)']"
   ]
  },
  {
   "cell_type": "markdown",
   "metadata": {},
   "source": [
    "### C. Display the box plot for ProsperRating (Alpha) vs LoanOriginalAmount and hue = Loan Status[Completed,Defaulted]."
   ]
  },
  {
   "cell_type": "code",
   "execution_count": 156,
   "metadata": {},
   "outputs": [
    {
     "data": {
      "image/png": "[encoded data removed]",
      "text/plain": [
       "<Figure size 1080x576 with 1 Axes>"
      ]
     },
     "metadata": {
      "needs_background": "light"
     },
     "output_type": "display_data"
    }
   ],
   "source": [
    "\n",
    "data3 = pd.read_csv('Pri-Load.csv')\n",
    "plt.rcParams[\"figure.figsize\"] = [15,8]\n",
    "\n",
    "sns.boxplot(x = 'ProsperRating (Alpha)', y = 'LoanOriginalAmount',hue = 'LoanStatus',  data= condition )\n",
    "plt.show()"
   ]
  },
  {
   "cell_type": "markdown",
   "metadata": {},
   "source": [
    "**Interpretition**: \n",
    "- Outliers can be seen in A, C, HR proserrating\n",
    "- ProsperRating of AA has the maximum Loan Original Amount in which maximum is in completed loan status"
   ]
  },
  {
   "cell_type": "markdown",
   "metadata": {},
   "source": [
    "### D. Display the catplot for ProsperRating (Alpha) vs ListingCategory (numeric)[Debt Consolidation,Other,Business,Home Improvement,Auto] and hue = Loan Status[Completed,Defaulted]. "
   ]
  },
  {
   "cell_type": "code",
   "execution_count": 177,
   "metadata": {},
   "outputs": [
    {
     "data": {
      "image/png": "[encoded data removed]",
      "text/plain": [
       "<Figure size 1890.12x360 with 5 Axes>"
      ]
     },
     "metadata": {
      "needs_background": "light"
     },
     "output_type": "display_data"
    }
   ],
   "source": [
    "\n",
    "plt.rcParams[\"figure.figsize\"] = [50,10]\n",
    "\n",
    "sns.catplot( x = 'ProsperRating (Alpha)',hue = 'LoanStatus',  data= condition,col='ListingCategory (numeric)',kind='count' )\n",
    "plt.show()"
   ]
  },
  {
   "cell_type": "markdown",
   "metadata": {},
   "source": [
    "**Interpretition**: \n",
    "- In Other Listing Category, ProsperRating D shows maximum completed Loan status\n",
    "- In Debt Consolidation Listing Category, there is uniform distribuition in completed loan status"
   ]
  },
  {
   "cell_type": "code",
   "execution_count": null,
   "metadata": {},
   "outputs": [],
   "source": []
  }
 ],
 "metadata": {
  "kernelspec": {
   "display_name": "Python 3 (ipykernel)",
   "language": "python",
   "name": "python3"
  },
  "language_info": {
   "codemirror_mode": {
    "name": "ipython",
    "version": 3
   },
   "file_extension": ".py",
   "mimetype": "text/x-python",
   "name": "python",
   "nbconvert_exporter": "python",
   "pygments_lexer": "ipython3",
   "version": "3.9.7"
  }
 },
 "nbformat": 4,
 "nbformat_minor": 4
}
